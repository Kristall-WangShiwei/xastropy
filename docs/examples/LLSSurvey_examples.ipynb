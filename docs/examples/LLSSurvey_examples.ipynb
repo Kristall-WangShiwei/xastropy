{
 "cells": [
  {
   "cell_type": "markdown",
   "metadata": {},
   "source": [
    "# Examples for LLSSurvey (v1.1)"
   ]
  },
  {
   "cell_type": "code",
   "execution_count": null,
   "metadata": {
    "collapsed": false
   },
   "outputs": [],
   "source": [
    "# imports\n",
    "#from xastropy.igm.abs_sys import lls_utils as llsu\n",
    "from xastropy.igm.abs_sys.lls_utils import LLSSurvey\n",
    "\n",
    "import urllib2, urllib\n",
    "import imp, json\n",
    "\n",
    "xa_path = imp.find_module('xastropy')[1]"
   ]
  },
  {
   "cell_type": "markdown",
   "metadata": {},
   "source": [
    "## Instantiate"
   ]
  },
  {
   "cell_type": "markdown",
   "metadata": {},
   "source": [
    "### LLS Tree (JXP) -- Likely to Deprecate"
   ]
  },
  {
   "cell_type": "code",
   "execution_count": null,
   "metadata": {
    "collapsed": false
   },
   "outputs": [],
   "source": [
    "#reload(llsu)\n",
    "lls_survey = LLSSurvey.from_flist('Lists/lls_metals.lst', tree=os.getenv('LLSTREE'))"
   ]
  },
  {
   "cell_type": "markdown",
   "metadata": {},
   "source": [
    "### FITS and JSON files (HD-LLS, DR1)"
   ]
  },
  {
   "cell_type": "code",
   "execution_count": 1,
   "metadata": {
    "collapsed": false
   },
   "outputs": [
    {
     "name": "stdout",
     "output_type": "stream",
     "text": [
      "-----------------------------------------------------------\n",
      "-----------------------------------------------------------\n",
      "WARNING: Not loading model in xastropy.fN   \n",
      " Install pymc if you want it\n",
      "-----------------------------------------------------------\n"
     ]
    },
    {
     "name": "stderr",
     "output_type": "stream",
     "text": [
      "/Users/xavier/anaconda/lib/python2.7/site-packages/astroquery/sdss/__init__.py:33: UserWarning: Experimental: SDSS has not yet been refactored to have its API match the rest of astroquery (but it's nearly there).\n",
      "  warnings.warn(\"Experimental: SDSS has not yet been refactored to have its API \"\n"
     ]
    }
   ],
   "source": [
    "# Grabs HD-LLS files from the website, as needed\n",
    "from xastropy.igm.abs_sys.lls_utils import LLSSurvey\n",
    "\n",
    "hdlls = LLSSurvey.load_HDLLS()"
   ]
  },
  {
   "cell_type": "code",
   "execution_count": 2,
   "metadata": {
    "collapsed": false
   },
   "outputs": [
    {
     "data": {
      "text/plain": [
       "[AbslineSurvey: nsys=157, type=LLS, ref=]"
      ]
     },
     "execution_count": 2,
     "metadata": {},
     "output_type": "execute_result"
    }
   ],
   "source": [
    "hdlls"
   ]
  },
  {
   "cell_type": "markdown",
   "metadata": {},
   "source": [
    "## Simple Attributes"
   ]
  },
  {
   "cell_type": "code",
   "execution_count": 3,
   "metadata": {
    "collapsed": false
   },
   "outputs": [
    {
     "data": {
      "text/plain": [
       "157"
      ]
     },
     "execution_count": 3,
     "metadata": {},
     "output_type": "execute_result"
    }
   ],
   "source": [
    "hdlls.nsys"
   ]
  },
  {
   "cell_type": "code",
   "execution_count": 4,
   "metadata": {
    "collapsed": false
   },
   "outputs": [
    {
     "data": {
      "text/plain": [
       "array([ 19.65,  20.05,  17.55,  19.1 ,  20.  ,  19.1 ,  19.05,  19.05,\n",
       "        19.25,  20.2 ])"
      ]
     },
     "execution_count": 4,
     "metadata": {},
     "output_type": "execute_result"
    }
   ],
   "source": [
    "hdlls.NHI[0:10]"
   ]
  },
  {
   "cell_type": "code",
   "execution_count": 5,
   "metadata": {
    "collapsed": false
   },
   "outputs": [
    {
     "data": {
      "text/plain": [
       "array(['HD-LLS_J000345.00-232346.5_z2.187',\n",
       "       'HD-LLS_J003454.80+163920.0_z3.754',\n",
       "       'HD-LLS_J004049.50-402514.0_z2.816',\n",
       "       'HD-LLS_J010355.30-300946.0_z2.908',\n",
       "       'HD-LLS_J010516.80-184642.0_z2.927'], \n",
       "      dtype='|S33')"
      ]
     },
     "execution_count": 5,
     "metadata": {},
     "output_type": "execute_result"
    }
   ],
   "source": [
    "hdlls.name[0:5]"
   ]
  },
  {
   "cell_type": "code",
   "execution_count": 6,
   "metadata": {
    "collapsed": false
   },
   "outputs": [
    {
     "data": {
      "text/html": [
       "&lt;Table length=157&gt;\n",
       "<table id=\"table4506559696\">\n",
       "<thead><tr><th>name</th><th>logN</th><th>sig_logN</th><th>flg_inst</th><th>ion</th><th>Z</th><th>flag_N</th></tr></thead>\n",
       "<thead><tr><th>unicode32</th><th>float64</th><th>float64</th><th>int64</th><th>int64</th><th>int64</th><th>int64</th></tr></thead>\n",
       "<tr><td>HD-LLS_J000345.00-232346.5_z2.18</td><td>14.447</td><td>0.017</td><td>144</td><td>2</td><td>6</td><td>2</td></tr>\n",
       "<tr><td>HD-LLS_J003454.80+163920.0_z3.75</td><td>0.0</td><td>0.0</td><td>0</td><td>0</td><td>0</td><td>0</td></tr>\n",
       "<tr><td>HD-LLS_J004049.50-402514.0_z2.81</td><td>13.421</td><td>0.0</td><td>8</td><td>2</td><td>6</td><td>3</td></tr>\n",
       "<tr><td>HD-LLS_J010355.30-300946.0_z2.90</td><td>13.901</td><td>0.03</td><td>144</td><td>2</td><td>6</td><td>1</td></tr>\n",
       "<tr><td>HD-LLS_J010516.80-184642.0_z2.92</td><td>14.594</td><td>0.016</td><td>8</td><td>2</td><td>6</td><td>2</td></tr>\n",
       "<tr><td>HD-LLS_J010619.24+004823.3_z3.32</td><td>0.0</td><td>0.0</td><td>0</td><td>0</td><td>0</td><td>0</td></tr>\n",
       "<tr><td>HD-LLS_J010619.24+004823.3_z4.17</td><td>0.0</td><td>0.0</td><td>0</td><td>0</td><td>0</td><td>0</td></tr>\n",
       "<tr><td>HD-LLS_J010619.24+004823.3_z3.28</td><td>0.0</td><td>0.0</td><td>0</td><td>0</td><td>0</td><td>0</td></tr>\n",
       "<tr><td>HD-LLS_J012156.03+144823.8_z2.66</td><td>14.794</td><td>0.02</td><td>1</td><td>2</td><td>6</td><td>2</td></tr>\n",
       "<tr><td>HD-LLS_J012403.80+004432.7_z3.07</td><td>0.0</td><td>0.0</td><td>0</td><td>0</td><td>0</td><td>0</td></tr>\n",
       "<tr><td>...</td><td>...</td><td>...</td><td>...</td><td>...</td><td>...</td><td>...</td></tr>\n",
       "<tr><td>HD-LLS_J231543.56+145606.0_z2.94</td><td>0.0</td><td>0.0</td><td>0</td><td>0</td><td>0</td><td>0</td></tr>\n",
       "<tr><td>HD-LLS_J231543.56+145606.0_z3.13</td><td>13.71</td><td>0.027</td><td>1</td><td>2</td><td>6</td><td>1</td></tr>\n",
       "<tr><td>HD-LLS_J231643.20-334912.0_z2.38</td><td>0.0</td><td>0.0</td><td>0</td><td>0</td><td>0</td><td>0</td></tr>\n",
       "<tr><td>HD-LLS_J231934.77-104036.9_z2.67</td><td>0.0</td><td>0.0</td><td>0</td><td>0</td><td>0</td><td>0</td></tr>\n",
       "<tr><td>HD-LLS_J232340.90+275800.0_z3.26</td><td>0.0</td><td>0.0</td><td>0</td><td>0</td><td>0</td><td>0</td></tr>\n",
       "<tr><td>HD-LLS_J232340.90+275800.0_z3.56</td><td>0.0</td><td>0.0</td><td>0</td><td>0</td><td>0</td><td>0</td></tr>\n",
       "<tr><td>HD-LLS_J233446.40-090812.3_z3.22</td><td>12.746</td><td>0.078</td><td>1</td><td>2</td><td>6</td><td>1</td></tr>\n",
       "<tr><td>HD-LLS_J234855.40-144436.6_z2.77</td><td>13.027</td><td>0.104</td><td>144</td><td>2</td><td>6</td><td>1</td></tr>\n",
       "<tr><td>HD-LLS_J235057.87-005209.9_z2.93</td><td>14.004</td><td>0.038</td><td>8</td><td>2</td><td>6</td><td>1</td></tr>\n",
       "<tr><td>HD-LLS_J235833.50-544042.0_z2.89</td><td>13.428</td><td>0.092</td><td>144</td><td>2</td><td>6</td><td>1</td></tr>\n",
       "</table>"
      ],
      "text/plain": [
       "<Table length=157>\n",
       "              name                 logN  sig_logN flg_inst  ion    Z   flag_N\n",
       "           unicode32             float64 float64   int64   int64 int64 int64 \n",
       "-------------------------------- ------- -------- -------- ----- ----- ------\n",
       "HD-LLS_J000345.00-232346.5_z2.18  14.447    0.017      144     2     6      2\n",
       "HD-LLS_J003454.80+163920.0_z3.75     0.0      0.0        0     0     0      0\n",
       "HD-LLS_J004049.50-402514.0_z2.81  13.421      0.0        8     2     6      3\n",
       "HD-LLS_J010355.30-300946.0_z2.90  13.901     0.03      144     2     6      1\n",
       "HD-LLS_J010516.80-184642.0_z2.92  14.594    0.016        8     2     6      2\n",
       "HD-LLS_J010619.24+004823.3_z3.32     0.0      0.0        0     0     0      0\n",
       "HD-LLS_J010619.24+004823.3_z4.17     0.0      0.0        0     0     0      0\n",
       "HD-LLS_J010619.24+004823.3_z3.28     0.0      0.0        0     0     0      0\n",
       "HD-LLS_J012156.03+144823.8_z2.66  14.794     0.02        1     2     6      2\n",
       "HD-LLS_J012403.80+004432.7_z3.07     0.0      0.0        0     0     0      0\n",
       "                             ...     ...      ...      ...   ...   ...    ...\n",
       "HD-LLS_J231543.56+145606.0_z2.94     0.0      0.0        0     0     0      0\n",
       "HD-LLS_J231543.56+145606.0_z3.13   13.71    0.027        1     2     6      1\n",
       "HD-LLS_J231643.20-334912.0_z2.38     0.0      0.0        0     0     0      0\n",
       "HD-LLS_J231934.77-104036.9_z2.67     0.0      0.0        0     0     0      0\n",
       "HD-LLS_J232340.90+275800.0_z3.26     0.0      0.0        0     0     0      0\n",
       "HD-LLS_J232340.90+275800.0_z3.56     0.0      0.0        0     0     0      0\n",
       "HD-LLS_J233446.40-090812.3_z3.22  12.746    0.078        1     2     6      1\n",
       "HD-LLS_J234855.40-144436.6_z2.77  13.027    0.104      144     2     6      1\n",
       "HD-LLS_J235057.87-005209.9_z2.93  14.004    0.038        8     2     6      1\n",
       "HD-LLS_J235833.50-544042.0_z2.89  13.428    0.092      144     2     6      1"
      ]
     },
     "execution_count": 6,
     "metadata": {},
     "output_type": "execute_result"
    }
   ],
   "source": [
    "CII_clms = hdlls.ions((6,2))\n",
    "CII_clms"
   ]
  },
  {
   "cell_type": "code",
   "execution_count": null,
   "metadata": {
    "collapsed": true
   },
   "outputs": [],
   "source": []
  }
 ],
 "metadata": {
  "kernelspec": {
   "display_name": "Python 2",
   "language": "python",
   "name": "python2"
  },
  "language_info": {
   "codemirror_mode": {
    "name": "ipython",
    "version": 2
   },
   "file_extension": ".py",
   "mimetype": "text/x-python",
   "name": "python",
   "nbconvert_exporter": "python",
   "pygments_lexer": "ipython2",
   "version": "2.7.10"
  }
 },
 "nbformat": 4,
 "nbformat_minor": 0
}
