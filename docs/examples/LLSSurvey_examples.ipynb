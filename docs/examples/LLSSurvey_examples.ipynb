{
 "cells": [
  {
   "cell_type": "markdown",
   "metadata": {},
   "source": [
    "# Examples for LLSSurvey"
   ]
  },
  {
   "cell_type": "code",
   "execution_count": 8,
   "metadata": {
    "collapsed": false
   },
   "outputs": [],
   "source": [
    "# imports\n",
    "from xastropy.igm.abs_sys.lls_utils import LLSSurvey\n",
    "import urllib2, urllib\n",
    "import imp, json\n",
    "\n",
    "xa_path = imp.find_module('xastropy')[1]"
   ]
  },
  {
   "cell_type": "markdown",
   "metadata": {},
   "source": [
    "## Instantiate"
   ]
  },
  {
   "cell_type": "markdown",
   "metadata": {},
   "source": [
    "### LLS Tree (JXP) -- Likely to Deprecate"
   ]
  },
  {
   "cell_type": "code",
   "execution_count": 2,
   "metadata": {
    "collapsed": false
   },
   "outputs": [
    {
     "name": "stderr",
     "output_type": "stream",
     "text": [
      "WARNING: AstropyDeprecationWarning: Passing a frame as a positional argument is now deprecated, use the frame= keyword argument instead. [astropy.coordinates.sky_coordinate]\n",
      "WARNING:astropy:AstropyDeprecationWarning: Passing a frame as a positional argument is now deprecated, use the frame= keyword argument instead.\n"
     ]
    },
    {
     "name": "stdout",
     "output_type": "stream",
     "text": [
      "Read 165 files from Lists/lls_metals.lst in the tree /u/xavier/LLS/\n"
     ]
    }
   ],
   "source": [
    "lls_survey = LLSSurvey(flist='Lists/lls_metals.lst', tree=os.getenv('LLSTREE'))"
   ]
  },
  {
   "cell_type": "markdown",
   "metadata": {},
   "source": [
    "### FITS and JSON files"
   ]
  },
  {
   "cell_type": "code",
   "execution_count": 6,
   "metadata": {
    "collapsed": false
   },
   "outputs": [],
   "source": [
    "# Pull from internet\n",
    "url = 'http://www.ucolick.org/~xavier/HD-LLS/DR1/HD-LLS_DR1.fits'\n",
    "f = urllib2.urlopen(url)\n",
    "summ_fil = xa_path+\"/data/LLS/HD-LLS_DR1.fits\"\n",
    "with open(summ_fil, \"wb\") as code:\n",
    "    code.write(f.read())\n",
    "# Ions\n",
    "url = 'http://www.ucolick.org/~xavier/HD-LLS/DR1/HD-LLS_ions.json'\n",
    "f = urllib2.urlopen(url)\n",
    "ions_fil = xa_path+\"/data/LLS/HD-LLS_ions.json\"\n",
    "with open(ions_fil, \"wb\") as code:\n",
    "    code.write(f.read())"
   ]
  },
  {
   "cell_type": "code",
   "execution_count": 54,
   "metadata": {
    "collapsed": false
   },
   "outputs": [
    {
     "data": {
      "text/html": [
       "&lt;Table masked=False length=5&gt;\n",
       "<table id=\"table4673424464\">\n",
       "<thead><tr><th>Name</th><th>QSO</th><th>RA</th><th>DEC</th><th>Z_QSO</th><th>Z_LLS</th><th>logNHI</th><th>sig(logNHI) [2]</th><th>SPEC_FILES [5]</th></tr></thead>\n",
       "<thead><tr><th></th><th></th><th>deg</th><th>deg</th><th></th><th></th><th></th><th></th><th></th></tr></thead>\n",
       "<thead><tr><th>string1056</th><th>string608</th><th>float64</th><th>float64</th><th>float64</th><th>float64</th><th>float64</th><th>float64</th><th>string352</th></tr></thead>\n",
       "<tr><td>HD-LLS_J000345.00-232346.5_z2.187</td><td>Q0001-2340</td><td>0.9375</td><td>-23.39625</td><td>2.262</td><td>2.1871</td><td>19.65</td><td>0.15 .. 0.15</td><td>HD-LLS_J000345.00-232346.5_z2.187_MIKEb.fits .. NULL</td></tr>\n",
       "<tr><td>HD-LLS_J003454.80+163920.0_z3.754</td><td>PX0034+16</td><td>8.72833333333</td><td>16.6555555556</td><td>4.29</td><td>3.75397</td><td>20.05</td><td>0.2 .. 0.2</td><td>HD-LLS_J003454.80+163920.0_z3.754_ESI.fits .. NULL</td></tr>\n",
       "<tr><td>HD-LLS_J004049.50-402514.0_z2.816</td><td>Q0038-4041</td><td>10.20625</td><td>-40.4205555556</td><td>2.977</td><td>2.81609</td><td>17.55</td><td>0.15 .. 0.15</td><td>HD-LLS_J004049.50-402514.0_z2.816_MAGE.fits .. NULL</td></tr>\n",
       "<tr><td>HD-LLS_J010355.30-300946.0_z2.908</td><td>Q0101-304</td><td>15.9804166667</td><td>-30.1627777778</td><td>3.137</td><td>2.90818</td><td>19.1</td><td>0.15 .. 0.15</td><td>HD-LLS_J010355.30-300946.0_z2.908_MIKEb.fits .. NULL</td></tr>\n",
       "<tr><td>HD-LLS_J010516.80-184642.0_z2.927</td><td>UM669</td><td>16.32</td><td>-18.7783333333</td><td>3.041</td><td>2.92695</td><td>20.0</td><td>0.2 .. 0.2</td><td>HD-LLS_J010516.80-184642.0_z2.927_MAGE.fits .. NULL</td></tr>\n",
       "</table>"
      ],
      "text/plain": [
       "<Table masked=False length=5>\n",
       "               Name               ...\n",
       "                                  ...\n",
       "            string1056            ...\n",
       "--------------------------------- ...\n",
       "HD-LLS_J000345.00-232346.5_z2.187 ...\n",
       "HD-LLS_J003454.80+163920.0_z3.754 ...\n",
       "HD-LLS_J004049.50-402514.0_z2.816 ...\n",
       "HD-LLS_J010355.30-300946.0_z2.908 ...\n",
       "HD-LLS_J010516.80-184642.0_z2.927 ..."
      ]
     },
     "execution_count": 54,
     "metadata": {},
     "output_type": "execute_result"
    }
   ],
   "source": [
    "# Read\n",
    "hdlls = Table.read(summ_fil)\n",
    "with open(ions_fil) as data_file:    \n",
    "    hdions = json.load(data_file)\n",
    "hdlls[0:5]\n",
    "#hdions"
   ]
  },
  {
   "cell_type": "markdown",
   "metadata": {},
   "source": [
    "## Simple Attributes"
   ]
  },
  {
   "cell_type": "code",
   "execution_count": 10,
   "metadata": {
    "collapsed": false
   },
   "outputs": [
    {
     "data": {
      "text/plain": [
       "165"
      ]
     },
     "execution_count": 10,
     "metadata": {},
     "output_type": "execute_result"
    }
   ],
   "source": [
    "lls_survey.nsys"
   ]
  },
  {
   "cell_type": "code",
   "execution_count": 8,
   "metadata": {
    "collapsed": false
   },
   "outputs": [
    {
     "data": {
      "text/plain": [
       "array([ 19.25,  19.45,  18.5 ,  20.1 ,  18.5 ,  18.1 ,  19.  ,  19.9 ,\n",
       "        18.7 ,  19.5 ])"
      ]
     },
     "execution_count": 8,
     "metadata": {},
     "output_type": "execute_result"
    }
   ],
   "source": [
    "lls_survey.NHI[0:10]"
   ]
  },
  {
   "cell_type": "code",
   "execution_count": 9,
   "metadata": {
    "collapsed": false
   },
   "outputs": [
    {
     "data": {
      "text/plain": [
       "array([u'J012156.03+144823.8_z2.662', u'J015741.56-010629.6_z2.631',\n",
       "       u'J015741.56-010629.6_z3.385', u'J020455.6+364918_z1.955',\n",
       "       u'J020455.6+364918_z2.690'], \n",
       "      dtype='<U27')"
      ]
     },
     "execution_count": 9,
     "metadata": {},
     "output_type": "execute_result"
    }
   ],
   "source": [
    "lls_survey.name[0:5]"
   ]
  },
  {
   "cell_type": "code",
   "execution_count": 16,
   "metadata": {
    "collapsed": false
   },
   "outputs": [],
   "source": [
    "m1 = np.ones(5) == np.ones(5)\n",
    "m2 = np.array([True]*5)"
   ]
  },
  {
   "cell_type": "code",
   "execution_count": 17,
   "metadata": {
    "collapsed": false
   },
   "outputs": [
    {
     "data": {
      "text/plain": [
       "True"
      ]
     },
     "execution_count": 17,
     "metadata": {},
     "output_type": "execute_result"
    }
   ],
   "source": [
    "x1 = None\n",
    "x2 = None\n",
    "x1 is x2"
   ]
  },
  {
   "cell_type": "code",
   "execution_count": 19,
   "metadata": {
    "collapsed": false
   },
   "outputs": [
    {
     "data": {
      "text/plain": [
       "1"
      ]
     },
     "execution_count": 19,
     "metadata": {},
     "output_type": "execute_result"
    }
   ],
   "source": [
    "tmp = [1]\n",
    "tmp[-1]"
   ]
  },
  {
   "cell_type": "code",
   "execution_count": 20,
   "metadata": {
    "collapsed": false
   },
   "outputs": [
    {
     "ename": "IndexError",
     "evalue": "list index out of range",
     "output_type": "error",
     "traceback": [
      "\u001b[0;31m---------------------------------------------------------------------------\u001b[0m",
      "\u001b[0;31mIndexError\u001b[0m                                Traceback (most recent call last)",
      "\u001b[0;32m<ipython-input-20-5b4570965a7a>\u001b[0m in \u001b[0;36m<module>\u001b[0;34m()\u001b[0m\n\u001b[0;32m----> 1\u001b[0;31m \u001b[0mtmp\u001b[0m\u001b[0;34m[\u001b[0m\u001b[0;36m1\u001b[0m\u001b[0;34m]\u001b[0m\u001b[0;34m\u001b[0m\u001b[0m\n\u001b[0m",
      "\u001b[0;31mIndexError\u001b[0m: list index out of range"
     ]
    }
   ],
   "source": [
    "tmp[1]"
   ]
  },
  {
   "cell_type": "code",
   "execution_count": 23,
   "metadata": {
    "collapsed": false
   },
   "outputs": [
    {
     "data": {
      "text/plain": [
       "'Z_LLS'"
      ]
     },
     "execution_count": 23,
     "metadata": {},
     "output_type": "execute_result"
    }
   ],
   "source": [
    "'z_lls'.upper()"
   ]
  },
  {
   "cell_type": "code",
   "execution_count": 25,
   "metadata": {
    "collapsed": true
   },
   "outputs": [],
   "source": [
    "from xastropy.igm.abs_sys.abs_survey import AbslineSurvey"
   ]
  },
  {
   "cell_type": "code",
   "execution_count": 26,
   "metadata": {
    "collapsed": true
   },
   "outputs": [],
   "source": [
    "def test1(a=2., b=3):\n",
    "    print(a,b)"
   ]
  },
  {
   "cell_type": "code",
   "execution_count": 29,
   "metadata": {
    "collapsed": false
   },
   "outputs": [
    {
     "name": "stdout",
     "output_type": "stream",
     "text": [
      "(3, 3)\n"
     ]
    }
   ],
   "source": [
    "test1(a=3)"
   ]
  },
  {
   "cell_type": "code",
   "execution_count": 31,
   "metadata": {
    "collapsed": false
   },
   "outputs": [
    {
     "name": "stdout",
     "output_type": "stream",
     "text": [
      "(3, 4.0)\n"
     ]
    }
   ],
   "source": [
    "kw = dict(a=3, b=4.)\n",
    "test1(**kw)"
   ]
  },
  {
   "cell_type": "code",
   "execution_count": 55,
   "metadata": {
    "collapsed": false
   },
   "outputs": [
    {
     "data": {
      "text/plain": [
       "{u'AlII': {u'Z': 13,\n",
       "  u'clm': 11.88,\n",
       "  u'flg_clm': 3,\n",
       "  u'flg_inst': 144,\n",
       "  u'ion': 2,\n",
       "  u'sig_clm': 0.0},\n",
       " u'AlIII': {u'Z': 13,\n",
       "  u'clm': 12.358,\n",
       "  u'flg_clm': 3,\n",
       "  u'flg_inst': 288,\n",
       "  u'ion': 3,\n",
       "  u'sig_clm': 0.0},\n",
       " u'CI': {u'Z': 6,\n",
       "  u'clm': 12.988,\n",
       "  u'flg_clm': 3,\n",
       "  u'flg_inst': 288,\n",
       "  u'ion': 1,\n",
       "  u'sig_clm': 0.0},\n",
       " u'CII': {u'Z': 6,\n",
       "  u'clm': 13.319,\n",
       "  u'flg_clm': 3,\n",
       "  u'flg_inst': 144,\n",
       "  u'ion': 2,\n",
       "  u'sig_clm': 0.0},\n",
       " u'CIV': {u'Z': 6,\n",
       "  u'clm': 13.361,\n",
       "  u'flg_clm': 1,\n",
       "  u'flg_inst': 288,\n",
       "  u'ion': 4,\n",
       "  u'sig_clm': 0.042},\n",
       " u'FeII': {u'Z': 26,\n",
       "  u'clm': 13.417,\n",
       "  u'flg_clm': 3,\n",
       "  u'flg_inst': 144,\n",
       "  u'ion': 2,\n",
       "  u'sig_clm': 0.0},\n",
       " u'NiII': {u'Z': 28,\n",
       "  u'clm': 13.599,\n",
       "  u'flg_clm': 3,\n",
       "  u'flg_inst': 432,\n",
       "  u'ion': 2,\n",
       "  u'sig_clm': 0.0},\n",
       " u'OI': {u'Z': 8,\n",
       "  u'clm': 13.685,\n",
       "  u'flg_clm': 3,\n",
       "  u'flg_inst': 144,\n",
       "  u'ion': 1,\n",
       "  u'sig_clm': 0.0},\n",
       " u'SII': {u'Z': 16,\n",
       "  u'clm': 14.228,\n",
       "  u'flg_clm': 3,\n",
       "  u'flg_inst': 432,\n",
       "  u'ion': 2,\n",
       "  u'sig_clm': 0.0},\n",
       " u'SiII': {u'Z': 14,\n",
       "  u'clm': 12.44,\n",
       "  u'flg_clm': 3,\n",
       "  u'flg_inst': 576,\n",
       "  u'ion': 2,\n",
       "  u'sig_clm': 0.0},\n",
       " u'SiIV': {u'Z': 14,\n",
       "  u'clm': 12.965,\n",
       "  u'flg_clm': 1,\n",
       "  u'flg_inst': 144,\n",
       "  u'ion': 4,\n",
       "  u'sig_clm': 0.067}}"
      ]
     },
     "execution_count": 55,
     "metadata": {},
     "output_type": "execute_result"
    }
   ],
   "source": [
    "idict  = hdions['HD-LLS_J133942.00+054822.0_z2.952']\n",
    "idict"
   ]
  },
  {
   "cell_type": "code",
   "execution_count": 56,
   "metadata": {
    "collapsed": false
   },
   "outputs": [
    {
     "data": {
      "text/html": [
       "&lt;Table masked=False length=1&gt;\n",
       "<table id=\"table4396166800\">\n",
       "<thead><tr><th>clm</th><th>sig_clm</th><th>flg_inst</th><th>ion</th><th>Z</th><th>flg_clm</th></tr></thead>\n",
       "<thead><tr><th>float64</th><th>float64</th><th>int64</th><th>int64</th><th>int64</th><th>int64</th></tr></thead>\n",
       "<tr><td>11.88</td><td>0.0</td><td>144</td><td>2</td><td>13</td><td>3</td></tr>\n",
       "</table>"
      ],
      "text/plain": [
       "<Table masked=False length=1>\n",
       "  clm   sig_clm flg_inst  ion    Z   flg_clm\n",
       "float64 float64  int64   int64 int64  int64 \n",
       "------- ------- -------- ----- ----- -------\n",
       "  11.88     0.0      144     2    13       3"
      ]
     },
     "execution_count": 56,
     "metadata": {},
     "output_type": "execute_result"
    }
   ],
   "source": [
    "ion = 'AlII'\n",
    "tkeys = idict[ion].keys()\n",
    "lst = [[idict[ion][tkey]] for tkey in tkeys]\n",
    "table = Table(lst, names=tkeys)\n",
    "table"
   ]
  },
  {
   "cell_type": "code",
   "execution_count": 93,
   "metadata": {
    "collapsed": false
   },
   "outputs": [],
   "source": [
    "tmp = table.dtype"
   ]
  },
  {
   "cell_type": "code",
   "execution_count": 94,
   "metadata": {
    "collapsed": false
   },
   "outputs": [
    {
     "data": {
      "text/plain": [
       "dtype([('clm', '<f8'), ('sig_clm', '<f8'), ('flg_inst', '<i8'), ('ion', '<i8'), ('Z', '<i8'), ('flg_clm', '<i8')])"
      ]
     },
     "execution_count": 94,
     "metadata": {},
     "output_type": "execute_result"
    }
   ],
   "source": [
    "tmp"
   ]
  },
  {
   "cell_type": "code",
   "execution_count": 96,
   "metadata": {
    "collapsed": false
   },
   "outputs": [
    {
     "data": {
      "text/plain": [
       "['clm', 'sig_clm', 'flg_inst', 'ion', 'Z', 'flg_clm']"
      ]
     },
     "execution_count": 96,
     "metadata": {},
     "output_type": "execute_result"
    }
   ],
   "source": [
    "table.keys()"
   ]
  },
  {
   "cell_type": "code",
   "execution_count": 84,
   "metadata": {
    "collapsed": false
   },
   "outputs": [
    {
     "data": {
      "text/plain": [
       "dtype([])"
      ]
     },
     "execution_count": 84,
     "metadata": {},
     "output_type": "execute_result"
    }
   ],
   "source": [
    "tab2.dtype"
   ]
  },
  {
   "cell_type": "code",
   "execution_count": 78,
   "metadata": {
    "collapsed": false
   },
   "outputs": [],
   "source": [
    "tab2.add_column(Column([],name='name',dtype='<U32'))"
   ]
  },
  {
   "cell_type": "code",
   "execution_count": 86,
   "metadata": {
    "collapsed": false
   },
   "outputs": [
    {
     "ename": "ValueError",
     "evalue": "Mismatch between number of vals and columns",
     "output_type": "error",
     "traceback": [
      "\u001b[0;31m---------------------------------------------------------------------------\u001b[0m",
      "\u001b[0;31mValueError\u001b[0m                                Traceback (most recent call last)",
      "\u001b[0;32m<ipython-input-86-3d01930ea07d>\u001b[0m in \u001b[0;36m<module>\u001b[0;34m()\u001b[0m\n\u001b[0;32m----> 1\u001b[0;31m \u001b[0mtab2\u001b[0m\u001b[0;34m.\u001b[0m\u001b[0madd_row\u001b[0m\u001b[0;34m(\u001b[0m\u001b[0mtable\u001b[0m\u001b[0;34m[\u001b[0m\u001b[0;36m0\u001b[0m\u001b[0;34m]\u001b[0m\u001b[0;34m)\u001b[0m\u001b[0;34m\u001b[0m\u001b[0m\n\u001b[0m",
      "\u001b[0;32m/Users/xavier/local/Python/astropy/astropy/table/table.pyc\u001b[0m in \u001b[0;36madd_row\u001b[0;34m(self, vals, mask)\u001b[0m\n\u001b[1;32m   1690\u001b[0m              \u001b[0;36m3\u001b[0m   \u001b[0;36m6\u001b[0m   \u001b[0;36m9\u001b[0m\u001b[0;34m\u001b[0m\u001b[0m\n\u001b[1;32m   1691\u001b[0m         \"\"\"\n\u001b[0;32m-> 1692\u001b[0;31m         \u001b[0mself\u001b[0m\u001b[0;34m.\u001b[0m\u001b[0minsert_row\u001b[0m\u001b[0;34m(\u001b[0m\u001b[0mlen\u001b[0m\u001b[0;34m(\u001b[0m\u001b[0mself\u001b[0m\u001b[0;34m)\u001b[0m\u001b[0;34m,\u001b[0m \u001b[0mvals\u001b[0m\u001b[0;34m,\u001b[0m \u001b[0mmask\u001b[0m\u001b[0;34m)\u001b[0m\u001b[0;34m\u001b[0m\u001b[0m\n\u001b[0m\u001b[1;32m   1693\u001b[0m \u001b[0;34m\u001b[0m\u001b[0m\n\u001b[1;32m   1694\u001b[0m     \u001b[0;32mdef\u001b[0m \u001b[0minsert_row\u001b[0m\u001b[0;34m(\u001b[0m\u001b[0mself\u001b[0m\u001b[0;34m,\u001b[0m \u001b[0mindex\u001b[0m\u001b[0;34m,\u001b[0m \u001b[0mvals\u001b[0m\u001b[0;34m=\u001b[0m\u001b[0mNone\u001b[0m\u001b[0;34m,\u001b[0m \u001b[0mmask\u001b[0m\u001b[0;34m=\u001b[0m\u001b[0mNone\u001b[0m\u001b[0;34m)\u001b[0m\u001b[0;34m:\u001b[0m\u001b[0;34m\u001b[0m\u001b[0m\n",
      "\u001b[0;32m/Users/xavier/local/Python/astropy/astropy/table/table.pyc\u001b[0m in \u001b[0;36minsert_row\u001b[0;34m(self, index, vals, mask)\u001b[0m\n\u001b[1;32m   1779\u001b[0m \u001b[0;34m\u001b[0m\u001b[0m\n\u001b[1;32m   1780\u001b[0m             \u001b[0;32mif\u001b[0m \u001b[0mlen\u001b[0m\u001b[0;34m(\u001b[0m\u001b[0mself\u001b[0m\u001b[0;34m.\u001b[0m\u001b[0mcolumns\u001b[0m\u001b[0;34m)\u001b[0m \u001b[0;34m!=\u001b[0m \u001b[0mlen\u001b[0m\u001b[0;34m(\u001b[0m\u001b[0mvals\u001b[0m\u001b[0;34m)\u001b[0m\u001b[0;34m:\u001b[0m\u001b[0;34m\u001b[0m\u001b[0m\n\u001b[0;32m-> 1781\u001b[0;31m                 \u001b[0;32mraise\u001b[0m \u001b[0mValueError\u001b[0m\u001b[0;34m(\u001b[0m\u001b[0;34m'Mismatch between number of vals and columns'\u001b[0m\u001b[0;34m)\u001b[0m\u001b[0;34m\u001b[0m\u001b[0m\n\u001b[0m\u001b[1;32m   1782\u001b[0m \u001b[0;34m\u001b[0m\u001b[0m\n\u001b[1;32m   1783\u001b[0m             \u001b[0;32mif\u001b[0m \u001b[0mmask\u001b[0m \u001b[0;32mis\u001b[0m \u001b[0;32mnot\u001b[0m \u001b[0mNone\u001b[0m\u001b[0;34m:\u001b[0m\u001b[0;34m\u001b[0m\u001b[0m\n",
      "\u001b[0;31mValueError\u001b[0m: Mismatch between number of vals and columns"
     ]
    }
   ],
   "source": [
    "tab2.add_row(table[0])"
   ]
  },
  {
   "cell_type": "code",
   "execution_count": 87,
   "metadata": {
    "collapsed": false
   },
   "outputs": [
    {
     "data": {
      "text/plain": [
       "<Row 0 of table\n",
       " values=(11.88, 0.0, 144, 2, 13, 3)\n",
       " dtype=[('clm', '<f8'), ('sig_clm', '<f8'), ('flg_inst', '<i8'), ('ion', '<i8'), ('Z', '<i8'), ('flg_clm', '<i8')]>"
      ]
     },
     "execution_count": 87,
     "metadata": {},
     "output_type": "execute_result"
    }
   ],
   "source": [
    "table[0]"
   ]
  },
  {
   "cell_type": "code",
   "execution_count": 81,
   "metadata": {
    "collapsed": false
   },
   "outputs": [
    {
     "data": {
      "text/plain": [
       "dtype([('name', '<U32')])"
      ]
     },
     "execution_count": 81,
     "metadata": {},
     "output_type": "execute_result"
    }
   ],
   "source": [
    "tab2.dtype"
   ]
  },
  {
   "cell_type": "code",
   "execution_count": null,
   "metadata": {
    "collapsed": true
   },
   "outputs": [],
   "source": []
  }
 ],
 "metadata": {
  "kernelspec": {
   "display_name": "Python 2",
   "language": "python",
   "name": "python2"
  },
  "language_info": {
   "codemirror_mode": {
    "name": "ipython",
    "version": 2
   },
   "file_extension": ".py",
   "mimetype": "text/x-python",
   "name": "python",
   "nbconvert_exporter": "python",
   "pygments_lexer": "ipython2",
   "version": "2.7.9"
  }
 },
 "nbformat": 4,
 "nbformat_minor": 0
}
