{
 "cells": [
  {
   "cell_type": "markdown",
   "metadata": {},
   "source": [
    "# Examples for LLSSurvey"
   ]
  },
  {
   "cell_type": "code",
   "execution_count": 14,
   "metadata": {
    "collapsed": false
   },
   "outputs": [],
   "source": [
    "# imports\n",
    "from xastropy.igm.abs_sys.lls_utils import LLSSurvey\n",
    "import urllib2, urllib\n",
    "import imp\n",
    "\n",
    "xa_path = imp.find_module('xastropy')[1]"
   ]
  },
  {
   "cell_type": "markdown",
   "metadata": {},
   "source": [
    "## Instantiate"
   ]
  },
  {
   "cell_type": "markdown",
   "metadata": {},
   "source": [
    "### LLS Tree (JXP) -- Likely to Deprecate"
   ]
  },
  {
   "cell_type": "code",
   "execution_count": 7,
   "metadata": {
    "collapsed": false
   },
   "outputs": [
    {
     "name": "stdout",
     "output_type": "stream",
     "text": [
      "Read 165 files from Lists/lls_metals.lst in the tree /u/xavier/LLS/\n"
     ]
    }
   ],
   "source": [
    "lls_survey = LLSSurvey(flist='Lists/lls_metals.lst', tree=os.getenv('LLSTREE'))"
   ]
  },
  {
   "cell_type": "markdown",
   "metadata": {},
   "source": [
    "### FITS and JSON files"
   ]
  },
  {
   "cell_type": "code",
   "execution_count": 16,
   "metadata": {
    "collapsed": false
   },
   "outputs": [],
   "source": [
    "# Pull from internet?\n",
    "url = 'http://www.ucolick.org/~xavier/HD-LLS/DR1/HD-LLS_DR1.fits'\n",
    "f = urllib2.urlopen(url)\n",
    "outfil = xa_path+\"/data/abund/HD-LLS_DR1.fits\"\n",
    "with open(outfil, \"wb\") as code:\n",
    "    code.write(f.read())"
   ]
  },
  {
   "cell_type": "code",
   "execution_count": 20,
   "metadata": {
    "collapsed": false
   },
   "outputs": [
    {
     "data": {
      "text/html": [
       "&lt;Table masked=False length=5&gt;\n",
       "<table id=\"table4545855632\">\n",
       "<thead><tr><th>Name</th><th>QSO</th><th>RA</th><th>DEC</th><th>Z_QSO</th><th>Z_LLS</th><th>logNHI</th><th>sig(logNHI) [2]</th><th>SPEC_FILES [5]</th></tr></thead>\n",
       "<thead><tr><th></th><th></th><th>deg</th><th>deg</th><th></th><th></th><th></th><th></th><th></th></tr></thead>\n",
       "<thead><tr><th>string1056</th><th>string608</th><th>float64</th><th>float64</th><th>float64</th><th>float64</th><th>float64</th><th>float64</th><th>string352</th></tr></thead>\n",
       "<tr><td>HD-LLS_J000345.00-232346.5_z2.187</td><td>Q0001-2340</td><td>0.9375</td><td>-23.39625</td><td>2.262</td><td>2.1871</td><td>19.65</td><td>0.15 .. 0.15</td><td>HD-LLS_J000345.00-232346.5_z2.187_MIKEb.fits .. NULL</td></tr>\n",
       "<tr><td>HD-LLS_J003454.80+163920.0_z3.754</td><td>PX0034+16</td><td>8.72833333333</td><td>16.6555555556</td><td>4.29</td><td>3.75397</td><td>20.05</td><td>0.2 .. 0.2</td><td>HD-LLS_J003454.80+163920.0_z3.754_ESI.fits .. NULL</td></tr>\n",
       "<tr><td>HD-LLS_J004049.50-402514.0_z2.816</td><td>Q0038-4041</td><td>10.20625</td><td>-40.4205555556</td><td>2.977</td><td>2.81609</td><td>17.55</td><td>0.15 .. 0.15</td><td>HD-LLS_J004049.50-402514.0_z2.816_MAGE.fits .. NULL</td></tr>\n",
       "<tr><td>HD-LLS_J010355.30-300946.0_z2.908</td><td>Q0101-304</td><td>15.9804166667</td><td>-30.1627777778</td><td>3.137</td><td>2.90818</td><td>19.1</td><td>0.15 .. 0.15</td><td>HD-LLS_J010355.30-300946.0_z2.908_MIKEb.fits .. NULL</td></tr>\n",
       "<tr><td>HD-LLS_J010516.80-184642.0_z2.927</td><td>UM669</td><td>16.32</td><td>-18.7783333333</td><td>3.041</td><td>2.92695</td><td>20.0</td><td>0.2 .. 0.2</td><td>HD-LLS_J010516.80-184642.0_z2.927_MAGE.fits .. NULL</td></tr>\n",
       "</table>"
      ],
      "text/plain": [
       "<Table masked=False length=5>\n",
       "               Name               ...\n",
       "                                  ...\n",
       "            string1056            ...\n",
       "--------------------------------- ...\n",
       "HD-LLS_J000345.00-232346.5_z2.187 ...\n",
       "HD-LLS_J003454.80+163920.0_z3.754 ...\n",
       "HD-LLS_J004049.50-402514.0_z2.816 ...\n",
       "HD-LLS_J010355.30-300946.0_z2.908 ...\n",
       "HD-LLS_J010516.80-184642.0_z2.927 ..."
      ]
     },
     "execution_count": 20,
     "metadata": {},
     "output_type": "execute_result"
    }
   ],
   "source": [
    "# Read\n",
    "hdlls = Table.read(outfil)\n",
    "hdlls[0:5]"
   ]
  },
  {
   "cell_type": "markdown",
   "metadata": {},
   "source": [
    "## Simple Attributes"
   ]
  },
  {
   "cell_type": "code",
   "execution_count": 10,
   "metadata": {
    "collapsed": false
   },
   "outputs": [
    {
     "data": {
      "text/plain": [
       "165"
      ]
     },
     "execution_count": 10,
     "metadata": {},
     "output_type": "execute_result"
    }
   ],
   "source": [
    "lls_survey.nsys"
   ]
  },
  {
   "cell_type": "code",
   "execution_count": 8,
   "metadata": {
    "collapsed": false
   },
   "outputs": [
    {
     "data": {
      "text/plain": [
       "array([ 19.25,  19.45,  18.5 ,  20.1 ,  18.5 ,  18.1 ,  19.  ,  19.9 ,\n",
       "        18.7 ,  19.5 ])"
      ]
     },
     "execution_count": 8,
     "metadata": {},
     "output_type": "execute_result"
    }
   ],
   "source": [
    "lls_survey.NHI[0:10]"
   ]
  },
  {
   "cell_type": "code",
   "execution_count": 9,
   "metadata": {
    "collapsed": false
   },
   "outputs": [
    {
     "data": {
      "text/plain": [
       "array([u'J012156.03+144823.8_z2.662', u'J015741.56-010629.6_z2.631',\n",
       "       u'J015741.56-010629.6_z3.385', u'J020455.6+364918_z1.955',\n",
       "       u'J020455.6+364918_z2.690'], \n",
       "      dtype='<U27')"
      ]
     },
     "execution_count": 9,
     "metadata": {},
     "output_type": "execute_result"
    }
   ],
   "source": [
    "lls_survey.name[0:5]"
   ]
  },
  {
   "cell_type": "code",
   "execution_count": null,
   "metadata": {
    "collapsed": true
   },
   "outputs": [],
   "source": []
  }
 ],
 "metadata": {
  "kernelspec": {
   "display_name": "Python 2",
   "language": "python",
   "name": "python2"
  },
  "language_info": {
   "codemirror_mode": {
    "name": "ipython",
    "version": 2
   },
   "file_extension": ".py",
   "mimetype": "text/x-python",
   "name": "python",
   "nbconvert_exporter": "python",
   "pygments_lexer": "ipython2",
   "version": "2.7.9"
  }
 },
 "nbformat": 4,
 "nbformat_minor": 0
}
