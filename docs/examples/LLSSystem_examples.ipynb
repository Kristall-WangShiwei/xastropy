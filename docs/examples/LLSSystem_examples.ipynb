{
 "cells": [
  {
   "cell_type": "markdown",
   "metadata": {},
   "source": [
    "# Examples for the LLSSystem Class (v1.1)"
   ]
  },
  {
   "cell_type": "code",
   "execution_count": null,
   "metadata": {
    "collapsed": true
   },
   "outputs": [],
   "source": [
    "%matplotlib inline"
   ]
  },
  {
   "cell_type": "code",
   "execution_count": 1,
   "metadata": {
    "collapsed": false
   },
   "outputs": [
    {
     "name": "stderr",
     "output_type": "stream",
     "text": [
      "/Users/xavier/anaconda/lib/python2.7/site-packages/matplotlib/__init__.py:872: UserWarning: axes.color_cycle is deprecated and replaced with axes.prop_cycle; please use the latter.\n",
      "  warnings.warn(self.msg_depr % (key, alt_key))\n",
      "/Users/xavier/anaconda/lib/python2.7/site-packages/astroquery/sdss/__init__.py:33: UserWarning: Experimental: SDSS has not yet been refactored to have its API match the rest of astroquery (but it's nearly there).\n",
      "  warnings.warn(\"Experimental: SDSS has not yet been refactored to have its API \"\n"
     ]
    },
    {
     "name": "stdout",
     "output_type": "stream",
     "text": [
      "-----------------------------------------------------------\n",
      "-----------------------------------------------------------\n",
      "WARNING: Not loading model in xastropy.fN   \n",
      " Install pymc if you want it\n",
      "-----------------------------------------------------------\n"
     ]
    }
   ],
   "source": [
    "# imports\n",
    "try:\n",
    "    import seaborn as sns; sns.set_style(\"white\")\n",
    "except:\n",
    "    pass\n",
    "\n",
    "from xastropy.igm.abs_sys import lls_utils as xlu\n",
    "from linetools.spectra.xspectrum1d import XSpectrum1D"
   ]
  },
  {
   "cell_type": "markdown",
   "metadata": {},
   "source": [
    "## Simple Instantiate"
   ]
  },
  {
   "cell_type": "code",
   "execution_count": null,
   "metadata": {
    "collapsed": false
   },
   "outputs": [],
   "source": [
    "reload(xlu)\n",
    "lls = xlu.LLSSystem((0.*u.deg, 0.*u.deg), 2.5, None, NHI=17.9)\n",
    "lls"
   ]
  },
  {
   "cell_type": "markdown",
   "metadata": {},
   "source": [
    "## Generate/plot a model"
   ]
  },
  {
   "cell_type": "code",
   "execution_count": null,
   "metadata": {
    "collapsed": false
   },
   "outputs": [],
   "source": [
    "# Fill HI lines\n",
    "lls.fill_lls_lines()"
   ]
  },
  {
   "cell_type": "code",
   "execution_count": null,
   "metadata": {
    "collapsed": false
   },
   "outputs": [],
   "source": [
    "# Generate a spectrum\n",
    "wave = np.arange(3000., 6500)\n",
    "npix = len(wave)\n",
    "spec = XSpectrum1D.from_tuple((wave*u.AA,np.ones(npix)))"
   ]
  },
  {
   "cell_type": "code",
   "execution_count": null,
   "metadata": {
    "collapsed": false
   },
   "outputs": [],
   "source": [
    "# Model\n",
    "model = lls.flux_model(spec)\n",
    "model.plot()"
   ]
  },
  {
   "cell_type": "markdown",
   "metadata": {},
   "source": [
    "## From a JXP .dat file \n",
    "\n",
    "(use of these .dat files is no longer recommended)"
   ]
  },
  {
   "cell_type": "code",
   "execution_count": 9,
   "metadata": {
    "collapsed": false
   },
   "outputs": [
    {
     "data": {
      "text/plain": [
       "[LLSSystem: 23:50:57.87 -00:52:09.9, zabs=2.93012, NHI=18.5, tau_LL=20.0462, [M/H]=0 dex]"
      ]
     },
     "execution_count": 9,
     "metadata": {},
     "output_type": "execute_result"
    }
   ],
   "source": [
    "reload(xlu)\n",
    "datfil = 'Data/UM184.z2929.dat'\n",
    "lls = xlu.LLSSystem.from_datfile(dat_file=datfil, tree=os.getenv('LLSTREE'))\n",
    "lls"
   ]
  },
  {
   "cell_type": "code",
   "execution_count": null,
   "metadata": {
    "collapsed": false
   },
   "outputs": [],
   "source": [
    "print(lls.nsub)\n",
    "lls.subsys['A']._datdict"
   ]
  },
  {
   "cell_type": "code",
   "execution_count": null,
   "metadata": {
    "collapsed": false
   },
   "outputs": [],
   "source": [
    "lls._datdict"
   ]
  },
  {
   "cell_type": "markdown",
   "metadata": {},
   "source": [
    "### Load up ions"
   ]
  },
  {
   "cell_type": "code",
   "execution_count": 10,
   "metadata": {
    "collapsed": false
   },
   "outputs": [
    {
     "name": "stdout",
     "output_type": "stream",
     "text": [
      "WARNING: Using 1250.5780 Angstrom for your input 1250.5840 Angstrom\n",
      "WARNING: Using 1253.8050 Angstrom for your input 1253.8110 Angstrom\n",
      "WARNING: Using 2056.2569 Angstrom for your input 2056.2539 Angstrom\n"
     ]
    }
   ],
   "source": [
    "lls.get_ions(use_clmfile=True)"
   ]
  },
  {
   "cell_type": "code",
   "execution_count": 11,
   "metadata": {
    "collapsed": false
   },
   "outputs": [
    {
     "data": {
      "text/html": [
       "&lt;QTable length=13&gt;\n",
       "<table id=\"table4556718928\">\n",
       "<thead><tr><th>Z</th><th>ion</th><th>A</th><th>Ej</th><th>z</th><th>vmin</th><th>vmax</th><th>flag_N</th><th>logN</th><th>sig_logN</th></tr></thead>\n",
       "<thead><tr><th></th><th></th><th></th><th></th><th></th><th>km / s</th><th>km / s</th><th></th><th></th><th></th></tr></thead>\n",
       "<thead><tr><th>int64</th><th>int64</th><th>int64</th><th>float64</th><th>float64</th><th>float64</th><th>float64</th><th>int64</th><th>float64</th><th>float64</th></tr></thead>\n",
       "<tr><td>6</td><td>1</td><td>0</td><td>0.0</td><td>2.93</td><td>-204.0</td><td>60.0</td><td>3</td><td>13.091</td><td>0.0</td></tr>\n",
       "<tr><td>6</td><td>2</td><td>0</td><td>0.0</td><td>2.93</td><td>-204.0</td><td>60.0</td><td>1</td><td>14.004</td><td>0.038</td></tr>\n",
       "<tr><td>6</td><td>4</td><td>0</td><td>0.0</td><td>2.93</td><td>-204.0</td><td>191.0</td><td>1</td><td>13.9</td><td>0.019</td></tr>\n",
       "<tr><td>8</td><td>1</td><td>0</td><td>0.0</td><td>2.93</td><td>-204.0</td><td>60.0</td><td>1</td><td>14.162</td><td>0.059</td></tr>\n",
       "<tr><td>13</td><td>2</td><td>0</td><td>0.0</td><td>2.93</td><td>-204.0</td><td>60.0</td><td>1</td><td>12.591</td><td>0.06</td></tr>\n",
       "<tr><td>13</td><td>3</td><td>0</td><td>0.0</td><td>2.93</td><td>-204.0</td><td>60.0</td><td>3</td><td>12.752</td><td>0.0</td></tr>\n",
       "<tr><td>14</td><td>2</td><td>0</td><td>0.0</td><td>2.93</td><td>-204.0</td><td>60.0</td><td>1</td><td>13.7</td><td>0.046</td></tr>\n",
       "<tr><td>14</td><td>4</td><td>0</td><td>0.0</td><td>2.93</td><td>-243.0</td><td>101.0</td><td>1</td><td>13.517</td><td>0.03</td></tr>\n",
       "<tr><td>16</td><td>2</td><td>0</td><td>0.0</td><td>2.93</td><td>-204.0</td><td>60.0</td><td>3</td><td>14.411</td><td>0.0</td></tr>\n",
       "<tr><td>24</td><td>2</td><td>0</td><td>0.0</td><td>2.93</td><td>-204.0</td><td>60.0</td><td>3</td><td>13.366</td><td>0.0</td></tr>\n",
       "<tr><td>26</td><td>2</td><td>0</td><td>0.0</td><td>2.93</td><td>-204.0</td><td>60.0</td><td>3</td><td>13.512</td><td>0.0</td></tr>\n",
       "<tr><td>28</td><td>2</td><td>0</td><td>0.0</td><td>2.93</td><td>-204.0</td><td>60.0</td><td>3</td><td>13.632</td><td>0.0</td></tr>\n",
       "<tr><td>30</td><td>2</td><td>0</td><td>0.0</td><td>2.93</td><td>-204.0</td><td>60.0</td><td>3</td><td>12.601</td><td>0.0</td></tr>\n",
       "</table>"
      ],
      "text/plain": [
       "<QTable length=13>\n",
       "  Z    ion    A      Ej      z      vmin    vmax  flag_N   logN  sig_logN\n",
       "                                   km / s  km / s                        \n",
       "int64 int64 int64 float64 float64 float64 float64 int64  float64 float64 \n",
       "----- ----- ----- ------- ------- ------- ------- ------ ------- --------\n",
       "    6     1     0     0.0    2.93  -204.0    60.0      3  13.091      0.0\n",
       "    6     2     0     0.0    2.93  -204.0    60.0      1  14.004    0.038\n",
       "    6     4     0     0.0    2.93  -204.0   191.0      1    13.9    0.019\n",
       "    8     1     0     0.0    2.93  -204.0    60.0      1  14.162    0.059\n",
       "   13     2     0     0.0    2.93  -204.0    60.0      1  12.591     0.06\n",
       "   13     3     0     0.0    2.93  -204.0    60.0      3  12.752      0.0\n",
       "   14     2     0     0.0    2.93  -204.0    60.0      1    13.7    0.046\n",
       "   14     4     0     0.0    2.93  -243.0   101.0      1  13.517     0.03\n",
       "   16     2     0     0.0    2.93  -204.0    60.0      3  14.411      0.0\n",
       "   24     2     0     0.0    2.93  -204.0    60.0      3  13.366      0.0\n",
       "   26     2     0     0.0    2.93  -204.0    60.0      3  13.512      0.0\n",
       "   28     2     0     0.0    2.93  -204.0    60.0      3  13.632      0.0\n",
       "   30     2     0     0.0    2.93  -204.0    60.0      3  12.601      0.0"
      ]
     },
     "execution_count": 11,
     "metadata": {},
     "output_type": "execute_result"
    }
   ],
   "source": [
    "lls._ionclms"
   ]
  },
  {
   "cell_type": "code",
   "execution_count": null,
   "metadata": {
    "collapsed": true
   },
   "outputs": [],
   "source": []
  }
 ],
 "metadata": {
  "kernelspec": {
   "display_name": "Python 2",
   "language": "python",
   "name": "python2"
  },
  "language_info": {
   "codemirror_mode": {
    "name": "ipython",
    "version": 2
   },
   "file_extension": ".py",
   "mimetype": "text/x-python",
   "name": "python",
   "nbconvert_exporter": "python",
   "pygments_lexer": "ipython2",
   "version": "2.7.10"
  }
 },
 "nbformat": 4,
 "nbformat_minor": 0
}
