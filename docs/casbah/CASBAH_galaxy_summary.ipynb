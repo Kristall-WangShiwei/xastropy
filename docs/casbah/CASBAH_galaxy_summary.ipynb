{
 "cells": [
  {
   "cell_type": "markdown",
   "metadata": {},
   "source": [
    "# Summary of CASBAH datasets related to galaxies"
   ]
  },
  {
   "cell_type": "code",
   "execution_count": 1,
   "metadata": {
    "collapsed": false
   },
   "outputs": [],
   "source": [
    "# imports\n",
    "import glob\n",
    "import pdb\n",
    "\n",
    "from xastropy.casbah import utils as casu\n",
    "from xastropy.casbah import io as casio"
   ]
  },
  {
   "cell_type": "code",
   "execution_count": 2,
   "metadata": {
    "collapsed": true
   },
   "outputs": [],
   "source": [
    "data_dir = os.getenv('CASBAH_DIR')"
   ]
  },
  {
   "cell_type": "markdown",
   "metadata": {},
   "source": [
    "## Imaging"
   ]
  },
  {
   "cell_type": "code",
   "execution_count": 3,
   "metadata": {
    "collapsed": false
   },
   "outputs": [
    {
     "data": {
      "text/plain": [
       "['/u/xavier/CASBAH//Galaxies/FBQS0751+2919',\n",
       " '/u/xavier/CASBAH//Galaxies/PG1148+549',\n",
       " '/u/xavier/CASBAH//Galaxies/PG1206+459',\n",
       " '/u/xavier/CASBAH//Galaxies/PG1407+265',\n",
       " '/u/xavier/CASBAH//Galaxies/PG1522+101',\n",
       " '/u/xavier/CASBAH//Galaxies/PG1630+377']"
      ]
     },
     "execution_count": 3,
     "metadata": {},
     "output_type": "execute_result"
    }
   ],
   "source": [
    "field_dir = glob.glob(data_dir+'/Galaxies/*')\n",
    "field_dir"
   ]
  },
  {
   "cell_type": "code",
   "execution_count": 11,
   "metadata": {
    "collapsed": false
   },
   "outputs": [],
   "source": [
    "reload(casio)\n",
    "img_names, filters, fields, telescopes, cameras, fovs, ntargets = [], [], [], [], [], [], []\n",
    "for fdir in field_dir:\n",
    "    field = fdir[fdir.rfind('/')+1:]\n",
    "    targ_file = None\n",
    "    # Search for images\n",
    "    img_files = glob.glob(fdir+'/*IMG*')\n",
    "    for img_file in img_files:\n",
    "        # Record\n",
    "        filt = img_file[img_file.rfind('_')+1:img_file.rfind('.fits')]\n",
    "        # Details\n",
    "        if 'LBC' in img_file:\n",
    "            telescope = 'LBT'\n",
    "            camera = 'LBC'\n",
    "            FOV = 20. \n",
    "            targ_instr = 'DEIMOS'\n",
    "        # Targets\n",
    "        if targ_file is None:\n",
    "            targ_file = casio.get_filename(field,'TARGETS')\n",
    "            targets = casio.load((field,0.,0.),'TARGETS')\n",
    "        sub_targs = targets['INSTR'] == targ_instr\n",
    "        # Append\n",
    "        img_names.append(img_file)\n",
    "        filters.append(filt)\n",
    "        fields.append(field)\n",
    "        telescopes.append(telescope)\n",
    "        cameras.append(camera)\n",
    "        fovs.append(FOV)\n",
    "        ntargets.append(np.sum(sub_targs))\n",
    "# Table\n",
    "img_tbl = Table()\n",
    "img_tbl['FIELD'] = fields\n",
    "img_tbl['TELESCOP'] = telescopes\n",
    "img_tbl['CAMERA'] = cameras\n",
    "img_tbl['FOV'] = fovs\n",
    "img_tbl['FILTER'] = filters\n",
    "# TO BE CALCULATED\n",
    "img_tbl['DEPTH'] = 0.\n",
    "img_tbl['NSOURCE'] = 0\n",
    "img_tbl['NTARGET'] = ntargets"
   ]
  },
  {
   "cell_type": "code",
   "execution_count": 12,
   "metadata": {
    "collapsed": false
   },
   "outputs": [
    {
     "data": {
      "text/html": [
       "&lt;Table length=1&gt;\n",
       "<table id=\"table4597417296\" class=\"table-striped table-bordered table-condensed\">\n",
       "<thead><tr><th>FIELD</th><th>TELESCOP</th><th>CAMERA</th><th>FOV</th><th>FILTER</th><th>DEPTH</th><th>NSOURCE</th><th>NTARGET</th></tr></thead>\n",
       "<thead><tr><th>str10</th><th>str3</th><th>str3</th><th>float64</th><th>str1</th><th>float64</th><th>int64</th><th>int64</th></tr></thead>\n",
       "<tr><td>PG1407+265</td><td>LBT</td><td>LBC</td><td>20.0</td><td>V</td><td>0.0</td><td>0</td><td>9835</td></tr>\n",
       "</table>"
      ],
      "text/plain": [
       "<Table length=1>\n",
       "  FIELD    TELESCOP CAMERA   FOV   FILTER  DEPTH  NSOURCE NTARGET\n",
       "  str10      str3    str3  float64  str1  float64  int64   int64 \n",
       "---------- -------- ------ ------- ------ ------- ------- -------\n",
       "PG1407+265      LBT    LBC    20.0      V     0.0       0    9835"
      ]
     },
     "execution_count": 12,
     "metadata": {},
     "output_type": "execute_result"
    }
   ],
   "source": [
    "img_tbl"
   ]
  },
  {
   "cell_type": "markdown",
   "metadata": {},
   "source": [
    "## Spectra"
   ]
  },
  {
   "cell_type": "code",
   "execution_count": null,
   "metadata": {
    "collapsed": true
   },
   "outputs": [],
   "source": []
  }
 ],
 "metadata": {
  "kernelspec": {
   "display_name": "Python 2",
   "language": "python",
   "name": "python2"
  },
  "language_info": {
   "codemirror_mode": {
    "name": "ipython",
    "version": 2
   },
   "file_extension": ".py",
   "mimetype": "text/x-python",
   "name": "python",
   "nbconvert_exporter": "python",
   "pygments_lexer": "ipython2",
   "version": "2.7.11"
  }
 },
 "nbformat": 4,
 "nbformat_minor": 0
}
