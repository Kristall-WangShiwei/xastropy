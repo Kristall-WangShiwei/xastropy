{
 "metadata": {
  "name": "",
  "signature": "sha256:e60219488e6070b75791ead41204995117ab63a957f6157e66848920331ee23d"
 },
 "nbformat": 3,
 "nbformat_minor": 0,
 "worksheets": [
  {
   "cells": [
    {
     "cell_type": "heading",
     "level": 1,
     "metadata": {},
     "source": [
      "xspec Documentation (v1.0)"
     ]
    },
    {
     "cell_type": "markdown",
     "metadata": {},
     "source": [
      "This ipython Notebook is intended to provide documentation for the xastropy GUI named XSpecGUI.\n",
      "Enjoy and feel free to suggest edits/additions, etc."
     ]
    },
    {
     "cell_type": "heading",
     "level": 2,
     "metadata": {},
     "source": [
      "Python Dependencies"
     ]
    },
    {
     "cell_type": "markdown",
     "metadata": {},
     "source": [
      "Here are a list of Python dependencies that I am aware of:\n",
      "* numpy\n",
      "* astropy (latest release)\n",
      "* specutils (latest release)\n",
      "* PyQt4\n",
      "* xastropy (duh; unfortunately this might have some extra dependencies..)"
     ]
    },
    {
     "cell_type": "heading",
     "level": 2,
     "metadata": {},
     "source": [
      "Spectral File"
     ]
    },
    {
     "cell_type": "markdown",
     "metadata": {},
     "source": [
      "The spectrum file used below is part of xastropy."
     ]
    },
    {
     "cell_type": "code",
     "collapsed": false,
     "input": [
      "import imp\n",
      "xa_path = imp.find_module('xastropy')[1]\n",
      "spec_fil = xa_path+'/../docs/data/UM669_nF.fits.gz'"
     ],
     "language": "python",
     "metadata": {},
     "outputs": [],
     "prompt_number": 1
    },
    {
     "cell_type": "heading",
     "level": 2,
     "metadata": {},
     "source": [
      "Launching the GUI"
     ]
    },
    {
     "cell_type": "markdown",
     "metadata": {},
     "source": [
      "I recommend the command line approach, but you can launch from ipython too.\n"
     ]
    },
    {
     "cell_type": "heading",
     "level": 3,
     "metadata": {},
     "source": [
      "From within ipython or equivalent"
     ]
    },
    {
     "cell_type": "code",
     "collapsed": false,
     "input": [
      "from xastropy.xguis import spec_guis as xxsg"
     ],
     "language": "python",
     "metadata": {},
     "outputs": [],
     "prompt_number": 2
    },
    {
     "cell_type": "code",
     "collapsed": false,
     "input": [
      "reload(xxsg)\n",
      "xxsg.run_xspec(spec_fil)"
     ],
     "language": "python",
     "metadata": {},
     "outputs": [],
     "prompt_number": 3
    },
    {
     "cell_type": "code",
     "collapsed": false,
     "input": [],
     "language": "python",
     "metadata": {},
     "outputs": []
    },
    {
     "cell_type": "heading",
     "level": 3,
     "metadata": {},
     "source": [
      "From the command line (recommended)"
     ]
    },
    {
     "cell_type": "markdown",
     "metadata": {},
     "source": [
      "I recommend you generate an alias like this:\n",
      "\n",
      "    alias xspec 'python ~/xastropy/xastropy/xguis/spec_guis.py 1'\n",
      "\n",
      "Then it is as simple as:\n",
      "\n",
      "    > xspec filename \n",
      "    \n",
      "Here are the current command-line options:    \n",
      "\n",
      "    > xspec -h\n",
      "    usage: spec_guis.py [-h] [-zsys ZSYS] [--un_norm] flag file\n",
      "\n",
      "    Parse for XSpec\n",
      "\n",
      "    positional arguments:\n",
      "      flag        GUI flag (ignored)\n",
      "      file        Spectral file\n",
      "\n",
      "    optional arguments:\n",
      "      -h, --help  show this help message and exit\n",
      "      -zsys ZSYS  System Redshift\n",
      "      --un_norm   Spectrum is NOT normalized"
     ]
    },
    {
     "cell_type": "markdown",
     "metadata": {},
     "source": []
    }
   ],
   "metadata": {}
  }
 ]
}