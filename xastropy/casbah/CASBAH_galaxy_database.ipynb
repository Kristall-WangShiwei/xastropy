{
 "cells": [
  {
   "cell_type": "markdown",
   "metadata": {},
   "source": [
    "# Building the CASBAH Galaxy Database (v1.0)"
   ]
  },
  {
   "cell_type": "markdown",
   "metadata": {},
   "source": [
    "## SDSS"
   ]
  },
  {
   "cell_type": "markdown",
   "metadata": {},
   "source": [
    "### Targeting\n",
    "I am unclear on how to sensibly extract targeting information from the\n",
    "SDSS.  But this may well be an issue for various analyses."
   ]
  },
  {
   "cell_type": "markdown",
   "metadata": {},
   "source": [
    "### Extracting Galaxy data\n",
    "The script build_sdss loops through the listed fields with SDSS\n",
    "coverage and calls the grab_sdss_spectra script to grab photometric\n",
    "and spectral data.  It is currently grabbing DR12.\n",
    "\n",
    "Here are some defaults:\n",
    "* Box of 2deg on a side\n",
    "* Photometry is Petrosian ugriz\n",
    "* Galaxies are cut down to 20Mpc separation (LCDM cosmology)\n",
    "* Stars are included (z=0)\n",
    "\n",
    "Here is the basic procedure:\n",
    "* Query photometry all objects in search box with spectra\n",
    "* Query list of spectra from SDSS in search box\n",
    "    * This list often contain duplicates from multiple passes\n",
    "* Cut on 20Mpc using redshifts, RA+DEC of obj, and RA+DEC of QSO\n",
    "* Loop on sources to build table\n",
    "    * Take BOSS data over SDSS\n",
    "* Generate a binary FITS table, including photometry, redshift and spectra"
   ]
  },
  {
   "cell_type": "code",
   "execution_count": 5,
   "metadata": {
    "collapsed": false
   },
   "outputs": [
    {
     "name": "stdout",
     "output_type": "stream",
     "text": [
      "grab_sdss_spectra: Found 12 sources in the search box.\n",
      "grab_sdss_spectra: Grabbing data for 12 sources.\n",
      "Wrote SDSS table to None\n"
     ]
    },
    {
     "data": {
      "text/html": [
       "&lt;Table masked=False length=5&gt;\n",
       "<table id=\"table4446065744\">\n",
       "<thead><tr><th>RA</th><th>DEC</th><th>Z</th><th>Z_ERR</th><th>SDSS_MAG [5]</th><th>SDSS_MAGERR [5]</th><th>TELESCOPE</th><th>INSTRUMENT</th><th>FLUX [5000]</th><th>SIG [5000]</th><th>WAVE [5000]</th></tr></thead>\n",
       "<thead><tr><th>float64</th><th>float64</th><th>float64</th><th>float64</th><th>float64</th><th>float64</th><th>string640</th><th>string640</th><th>float32</th><th>float32</th><th>float64</th></tr></thead>\n",
       "<tr><td>212.35102636</td><td>26.3415403908</td><td>3.21771526337</td><td>0.000997702358291</td><td>23.70004 .. 7.34031909445e+223</td><td>1.576056 .. 6.013470017e-154</td><td>SDSS 2.5-M</td><td>BOSS</td><td>3.5592 .. 1.35632e-19</td><td>2.65591 .. 1.35632e-19</td><td>3592.52587891 .. -1.22810024928e-296</td></tr>\n",
       "<tr><td>212.349627859</td><td>26.3058613203</td><td>0.0</td><td>0.0</td><td>16.10909 .. -6.11925950261e-220</td><td>0.004779854 .. -2.78592920103e-305</td><td>SDSS 2.5-M</td><td>SDSS</td><td>0.0 .. 1.77053e-38</td><td>0.0 .. -1.21568e-37</td><td>3811.53564453 .. 1.57733159326e-52</td></tr>\n",
       "<tr><td>212.370094746</td><td>26.3254555654</td><td>0.327256381512</td><td>5.58089996048e-05</td><td>21.36104 .. 6.013470017e-154</td><td>1.245788 .. 1.83037365249e-94</td><td>SDSS 2.5-M</td><td>BOSS</td><td>3.59836 .. -1.19132e+14</td><td>3.71348 .. -9.48227e+21</td><td>3590.87353516 .. 8.31176848954e+46</td></tr>\n",
       "<tr><td>212.363198097</td><td>26.3766678271</td><td>0.673991203308</td><td>0.000221190101001</td><td>21.94763 .. 1.76807794921e+258</td><td>1.772229 .. -1.47312822905e-204</td><td>SDSS 2.5-M</td><td>BOSS</td><td>-0.0600585 .. 1.35632e-19</td><td>2.7654 .. -1.47499e+12</td><td>3592.52587891 .. 7.86200159392e-51</td></tr>\n",
       "<tr><td>212.272722288</td><td>26.305233155</td><td>0.321305960417</td><td>8.39712593006e-05</td><td>21.33263 .. 3.00282156321e-142</td><td>0.844611 .. -1.19464315864e-195</td><td>SDSS 2.5-M</td><td>BOSS</td><td>-0.931015 .. 168.798</td><td>2.87149 .. 3.81592e+09</td><td>3590.87353516 .. -1.10999478584e-51</td></tr>\n",
       "</table>"
      ],
      "text/plain": [
       "<Table masked=False length=5>\n",
       "      RA           DEC      ...             WAVE [5000]             \n",
       "   float64       float64    ...               float64               \n",
       "------------- ------------- ... ------------------------------------\n",
       " 212.35102636 26.3415403908 ... 3592.52587891 .. -1.22810024928e-296\n",
       "212.349627859 26.3058613203 ...   3811.53564453 .. 1.57733159326e-52\n",
       "212.370094746 26.3254555654 ...   3590.87353516 .. 8.31176848954e+46\n",
       "212.363198097 26.3766678271 ...   3592.52587891 .. 7.86200159392e-51\n",
       "212.272722288  26.305233155 ...  3590.87353516 .. -1.10999478584e-51"
      ]
     },
     "execution_count": 5,
     "metadata": {},
     "output_type": "execute_result"
    }
   ],
   "source": [
    "# Example call\n",
    "from xastropy.casbah import galaxy_data as xcgd\n",
    "reload(xcgd)\n",
    "radec = (212.34957*u.deg,26.30585*u.deg)\n",
    "tab=xcgd.grab_sdss_spectra(radec, radius=1.*u.degree/12.) \n",
    "Table(tab[0:5])"
   ]
  },
  {
   "cell_type": "markdown",
   "metadata": {},
   "source": [
    "### Open questions/issues\n",
    "1.  Should we be recording other observing meta-data?\n",
    "1.  How about SFR, M*, etc.?"
   ]
  },
  {
   "cell_type": "markdown",
   "metadata": {},
   "source": [
    "## DEIMOS"
   ]
  },
  {
   "cell_type": "markdown",
   "metadata": {
    "collapsed": true
   },
   "source": [
    "### Targeting\n",
    "\n",
    "* Pull mask target info from Mask files :: parse_deimos_mask_file\n",
    "* Pull other target info from SExtractor output\n",
    "  * Requires yaml file describing target criteria\n",
    "  * And the SExtractor output file\n",
    "\n",
    "#### Sample output\n",
    "\n",
    "MULTI_OBJ file:\n",
    "\n",
    "|  INSTR |        MASK_NAME |     MASK_RA |   MASK_DEC | MASK_EPOCH | MASK_PA |    DATE_OBS | DISPERSER |   TEXP |         CONDITIONS |\n",
    "\n",
    "| DEIMOS | PG1407_may_early | 14:09:34.10 | 26:18:45.1 |     2000.0 |   -96.1 | 23-Jul-2015 |      G600 | 3600.0 | POOR_SEEING,CLOUDS |\n",
    "\n",
    "| DEIMOS | PG1407_may_early | 14:09:34.10 | 26:18:45.1 |     2000.0 |   -96.1 | 24-Jul-2015 |      G600 | 3600.0 |              CLEAR |\n"
   ]
  },
  {
   "cell_type": "markdown",
   "metadata": {},
   "source": [
    "## Testing"
   ]
  },
  {
   "cell_type": "code",
   "execution_count": 48,
   "metadata": {
    "collapsed": false
   },
   "outputs": [
    {
     "data": {
      "text/html": [
       "&lt;Table masked=True length=5&gt;\n",
       "<table id=\"table4454364368\">\n",
       "<thead><tr><th>INSTR</th><th>MASK_NAME</th><th>MASK_RA</th><th>MASK_DEC</th><th>MASK_EPOCH</th><th>MASK_PA</th><th>DATE_OBS</th><th>DISPERSER</th><th>TEXP</th><th>CONDITIONS</th></tr></thead>\n",
       "<thead><tr><th>string48</th><th>string128</th><th>string88</th><th>string80</th><th>float64</th><th>float64</th><th>string88</th><th>string32</th><th>float64</th><th>string144</th></tr></thead>\n",
       "<tr><td>DEIMOS</td><td>PG1407_may_early</td><td>14:09:34.10</td><td>26:18:45.1</td><td>2000.0</td><td>-96.1</td><td>23-Jul-2015</td><td>G600</td><td>3600.0</td><td>POOR_SEEING,CLOUDS</td></tr>\n",
       "<tr><td>DEIMOS</td><td>PG1407_may_early</td><td>14:09:34.10</td><td>26:18:45.1</td><td>2000.0</td><td>-96.1</td><td>24-Jul-2015</td><td>G600</td><td>3600.0</td><td>CLEAR</td></tr>\n",
       "<tr><td>DEIMOS</td><td>PG1407_may_mid</td><td>14:09:30.58</td><td>26:18:36.8</td><td>2000.0</td><td>80.0</td><td>--</td><td>--</td><td>--</td><td>--</td></tr>\n",
       "<tr><td>DEIMOS</td><td>PG1407_may_mid2</td><td>14:09:30.58</td><td>26:16:36.8</td><td>2000.0</td><td>-2.0</td><td>--</td><td>--</td><td>--</td><td>--</td></tr>\n",
       "<tr><td>DEIMOS</td><td>PG1407_may_late</td><td>14:09:30.58</td><td>26:16:36.8</td><td>2000.0</td><td>126.0</td><td>--</td><td>--</td><td>--</td><td>--</td></tr>\n",
       "</table>"
      ],
      "text/plain": [
       "<Table masked=True length=5>\n",
       " INSTR      MASK_NAME       MASK_RA   ... DISPERSER   TEXP      CONDITIONS    \n",
       "string48    string128       string88  ...  string32 float64     string144     \n",
       "-------- ---------------- ----------- ... --------- ------- ------------------\n",
       "  DEIMOS PG1407_may_early 14:09:34.10 ...      G600  3600.0 POOR_SEEING,CLOUDS\n",
       "  DEIMOS PG1407_may_early 14:09:34.10 ...      G600  3600.0              CLEAR\n",
       "  DEIMOS   PG1407_may_mid 14:09:30.58 ...        --      --                 --\n",
       "  DEIMOS  PG1407_may_mid2 14:09:30.58 ...        --      --                 --\n",
       "  DEIMOS  PG1407_may_late 14:09:30.58 ...        --      --                 --"
      ]
     },
     "execution_count": 48,
     "metadata": {},
     "output_type": "execute_result"
    }
   ],
   "source": [
    "ifile = '/Users/xavier/CASBAH/Galaxies/Observing/DEIMOS/PG1407+265_MULTI_OBJ.ascii'\n",
    "mtab = Table.read(ifile,delimiter='|',format='ascii.fixed_width',\n",
    "                 fill_values=[('--','0','DATE_OBS','TEXP')])\n",
    "mtab"
   ]
  },
  {
   "cell_type": "code",
   "execution_count": 61,
   "metadata": {
    "collapsed": false
   },
   "outputs": [
    {
     "data": {
      "text/plain": [
       "{'ALL_WITHIN_SEP': 20.0,\n",
       " 'MAX_MAG': 25.0,\n",
       " 'MAX_SEP': 10.0,\n",
       " 'PHOTOM': 'MAG_BEST',\n",
       " 'SEX_FILE': 'pg1407_sex_v.fits',\n",
       " 'STAR_GAL': 0.9}"
      ]
     },
     "execution_count": 61,
     "metadata": {},
     "output_type": "execute_result"
    }
   ],
   "source": [
    "import yaml\n",
    "yfile = '/Users/xavier/CASBAH/Galaxies/Observing/DEIMOS/PG1407+265/MASKS/PG1407+265_DEIMOS_targ.yaml'\n",
    "stram = open(yfile, \"r\")\n",
    "idict = yaml.load(stram)\n",
    "idict"
   ]
  },
  {
   "cell_type": "code",
   "execution_count": 60,
   "metadata": {
    "collapsed": false
   },
   "outputs": [
    {
     "data": {
      "text/html": [
       "&lt;Table masked=False length=5&gt;\n",
       "<table id=\"table4454688784\">\n",
       "<thead><tr><th>NUMBER</th><th>X_IMAGE</th><th>Y_IMAGE</th><th>ALPHA_J2000</th><th>DELTA_J2000</th><th>FLUX_AUTO</th><th>FLUXERR_AUTO</th><th>FLUX_ISO</th><th>FLUXERR_ISO</th><th>MAG_BEST</th><th>MAGERR_BEST</th><th>MAG_ISO</th><th>MAGERR_ISO</th><th>MAG_AUTO</th><th>MAGERR_AUTO</th><th>FLUX_RADIUS</th><th>FWHM_IMAGE</th><th>FWHM_WORLD</th><th>FLAGS</th><th>ISOAREA_IMAGE</th><th>ELONGATION</th><th>CLASS_STAR</th><th>XWIN_IMAGE</th><th>YWIN_IMAGE</th><th>A_IMAGE</th><th>B_IMAGE</th><th>AWIN_IMAGE</th><th>BWIN_IMAGE</th><th>THETA_IMAGE</th><th>THETA_WORLD</th><th>KRON_RADIUS</th><th>MU_THRESHOLD</th></tr></thead>\n",
       "<thead><tr><th>int32</th><th>float32</th><th>float32</th><th>float64</th><th>float64</th><th>float32</th><th>float32</th><th>float32</th><th>float32</th><th>float32</th><th>float32</th><th>float32</th><th>float32</th><th>float32</th><th>float32</th><th>float32</th><th>float32</th><th>float32</th><th>int16</th><th>int32</th><th>float32</th><th>float32</th><th>float64</th><th>float64</th><th>float32</th><th>float32</th><th>float32</th><th>float32</th><th>float32</th><th>float32</th><th>float32</th><th>float32</th></tr></thead>\n",
       "<tr><td>1</td><td>7097.23</td><td>382.356</td><td>212.10933543</td><td>26.1178789051</td><td>4.78494e+07</td><td>5684.41</td><td>3.34956e+07</td><td>4566.22</td><td>13.3103</td><td>0.000129015</td><td>13.6975</td><td>0.000148047</td><td>13.3103</td><td>0.000129015</td><td>122.828</td><td>0.0</td><td>0.0</td><td>22</td><td>14807</td><td>5.69801</td><td>0.0286266</td><td>6758.95963395</td><td>217.39361991</td><td>79.8223</td><td>14.0088</td><td>88.3339</td><td>30.9015</td><td>88.5138</td><td>-88.4078</td><td>3.5</td><td>22.1499</td></tr>\n",
       "<tr><td>2</td><td>7230.23</td><td>541.628</td><td>212.100060078</td><td>26.1278131743</td><td>1.83533e+07</td><td>4147.58</td><td>4.5603e+06</td><td>2361.47</td><td>14.3507</td><td>0.00024542</td><td>15.8625</td><td>0.000562366</td><td>14.3507</td><td>0.00024542</td><td>147.668</td><td>0.0</td><td>0.0</td><td>28</td><td>25720</td><td>8.83344</td><td>0.00050545</td><td>6751.00573249</td><td>230.944989433</td><td>123.324</td><td>13.961</td><td>102.415</td><td>35.3058</td><td>89.9967</td><td>-89.8864</td><td>3.5</td><td>25.7027</td></tr>\n",
       "<tr><td>3</td><td>579.828</td><td>360.18</td><td>212.562790571</td><td>26.1165387359</td><td>-3.37058e+07</td><td>1679.65</td><td>5.9081e+06</td><td>2163.88</td><td>99.0</td><td>99.0</td><td>15.5814</td><td>0.000397755</td><td>99.0</td><td>99.0</td><td>-1519.26</td><td>0.0</td><td>0.0</td><td>4</td><td>11296</td><td>3.08167</td><td>0.796922</td><td>579.827760258</td><td>360.180052818</td><td>44.2252</td><td>14.351</td><td>44.2252</td><td>14.351</td><td>89.0801</td><td>-89.1734</td><td>0.0</td><td>25.0785</td></tr>\n",
       "<tr><td>4</td><td>5952.85</td><td>131.343</td><td>212.188978836</td><td>26.1023083797</td><td>2.89552e+09</td><td>45437.5</td><td>3.68823e+07</td><td>5926.46</td><td>8.85568</td><td>1.70419e-05</td><td>13.593</td><td>0.000174505</td><td>8.85568</td><td>1.70419e-05</td><td>1548.7</td><td>0.0</td><td>0.0</td><td>20</td><td>121573</td><td>39.4626</td><td>0.0853614</td><td>3619.39698224</td><td>-660.373053443</td><td>555.554</td><td>14.078</td><td>555.554</td><td>14.078</td><td>1.91545e-05</td><td>0.0716425</td><td>26.0599</td><td>25.7027</td></tr>\n",
       "<tr><td>5</td><td>4863.93</td><td>131.318</td><td>212.264731507</td><td>26.1023714279</td><td>-4.43195e+06</td><td>1061.98</td><td>3.38949e+06</td><td>1594.25</td><td>99.0</td><td>99.0</td><td>16.1847</td><td>0.000510801</td><td>99.0</td><td>99.0</td><td>-275.852</td><td>0.0</td><td>0.0</td><td>4</td><td>5234</td><td>1.27767</td><td>0.813222</td><td>4863.93002233</td><td>131.318298664</td><td>18.0119</td><td>14.0974</td><td>18.0119</td><td>14.0974</td><td>0.0930789</td><td>-0.0545487</td><td>0.0</td><td>25.3141</td></tr>\n",
       "</table>"
      ],
      "text/plain": [
       "<Table masked=False length=5>\n",
       "NUMBER X_IMAGE Y_IMAGE  ALPHA_J2000  ... THETA_WORLD KRON_RADIUS MU_THRESHOLD\n",
       "int32  float32 float32    float64    ...   float32     float32     float32   \n",
       "------ ------- ------- ------------- ... ----------- ----------- ------------\n",
       "     1 7097.23 382.356  212.10933543 ...    -88.4078         3.5      22.1499\n",
       "     2 7230.23 541.628 212.100060078 ...    -89.8864         3.5      25.7027\n",
       "     3 579.828  360.18 212.562790571 ...    -89.1734         0.0      25.0785\n",
       "     4 5952.85 131.343 212.188978836 ...   0.0716425     26.0599      25.7027\n",
       "     5 4863.93 131.318 212.264731507 ...  -0.0545487         0.0      25.3141"
      ]
     },
     "execution_count": 60,
     "metadata": {},
     "output_type": "execute_result"
    }
   ],
   "source": [
    "# Sextractor\n",
    "sexfile = '/Users/xavier/CASBAH/Galaxies/Observing/DEIMOS/PG1407+265/MASKS/pg1407_sex_v.fits'\n",
    "sex_tab = Table(fits.open(sexfile)[1].data)\n",
    "sex_tab[0:5]\n"
   ]
  },
  {
   "cell_type": "code",
   "execution_count": 62,
   "metadata": {
    "collapsed": true
   },
   "outputs": [],
   "source": [
    "from astropy.table import MaskedColumn"
   ]
  },
  {
   "cell_type": "code",
   "execution_count": 67,
   "metadata": {
    "collapsed": false
   },
   "outputs": [],
   "source": [
    "tmp = MaskedColumn(['None','blah'],mask=[True,False],name='tst')"
   ]
  },
  {
   "cell_type": "code",
   "execution_count": 68,
   "metadata": {
    "collapsed": false
   },
   "outputs": [
    {
     "data": {
      "text/html": [
       "&lt;MaskedColumn name=&apos;tst&apos; dtype=&apos;string32&apos; length=2&gt;\n",
       "<table>\n",
       "<tr><td>--</td></tr>\n",
       "<tr><td>blah</td></tr>\n",
       "</table>"
      ],
      "text/plain": [
       "<MaskedColumn name='tst' dtype='string32' length=2>\n",
       "  --\n",
       "blah"
      ]
     },
     "execution_count": 68,
     "metadata": {},
     "output_type": "execute_result"
    }
   ],
   "source": [
    "tmp"
   ]
  },
  {
   "cell_type": "code",
   "execution_count": null,
   "metadata": {
    "collapsed": true
   },
   "outputs": [],
   "source": []
  }
 ],
 "metadata": {
  "kernelspec": {
   "display_name": "Python 2",
   "language": "python",
   "name": "python2"
  },
  "language_info": {
   "codemirror_mode": {
    "name": "ipython",
    "version": 2
   },
   "file_extension": ".py",
   "mimetype": "text/x-python",
   "name": "python",
   "nbconvert_exporter": "python",
   "pygments_lexer": "ipython2",
   "version": "2.7.10"
  }
 },
 "nbformat": 4,
 "nbformat_minor": 0
}
